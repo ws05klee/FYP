{
 "cells": [
  {
   "cell_type": "code",
   "execution_count": 9,
   "metadata": {},
   "outputs": [
    {
     "name": "stdout",
     "output_type": "stream",
     "text": [
      "covid images not exist\n",
      "141 covid-19-pneumonia-93.png\n",
      "259 sub-S11100_ses-E19473_run-1_bp-chest_vp-ap_dx.png\n",
      "400 normal_2111.png\n"
     ]
    }
   ],
   "source": [
    "import os\n",
    "import tensorflow as tf\n",
    "from tensorflow.python.client import device_lib\n",
    "from tensorflow import keras\n",
    "from tensorflow.keras import layers\n",
    "from tensorflow.keras.datasets import cifar10\n",
    "import shutil\n",
    "import numpy as np \n",
    "import pandas as pd \n",
    "import matplotlib.pyplot as plt\n",
    "import os\n",
    "import random\n",
    "\n",
    "\n",
    "if os.path.exists('data/normaleff/'):\n",
    "    shutil.rmtree(\"data/normaleff/\")\n",
    "else: print(\"normal images not exist\")\n",
    "\n",
    "if os.path.exists('data/covideff/'):\n",
    "    shutil.rmtree(\"data/covideff/\")\n",
    "else: print(\"covid images not exist\")\n",
    "\n",
    "\n",
    "total_images_need = 400 # for each category\n",
    "covid_images = int(total_images_need-141) # this havnt included 141 covid img for 1st dataset\n",
    "normal_images = int(total_images_need)\n",
    "\n",
    "fyp_data_path = \"C:\\FYP_local\\Project\"\n",
    "images_path = fyp_data_path + \"\\\\onlinedata\\\\first\\\\images\"\n",
    "dataset_path = os.listdir(fyp_data_path) # list all the file inside the fyp_data_path\n",
    "data_excel = fyp_data_path + \"\\\\onlinedata\\\\first\\metadata.csv\"\n",
    "df = pd.read_csv(data_excel,encoding = \"ISO-8859-1\") ###cols = [0,4,17,18,22] # patientid, finding, view, modality, filename\n",
    "\n",
    "# df = df[df.columns[cols]]\n",
    "# print(fyp_data_path, \"\\n\", images_path, \"\\n\", data_excel)\n",
    "\n",
    "### create folder to store covid\n",
    "target_coviddir = fyp_data_path + \"\\\\data\\\\covideff\"\n",
    "if not os.path.exists(target_coviddir):\n",
    "  os.mkdir(target_coviddir)\n",
    "#   print(\"covid for effiencyNetB0 folder created\")\n",
    "else: print(\"Error for creating covid folder\")\n",
    "\n",
    "###from csv count how many images categorized as COVID-19\n",
    "count = 0 \n",
    "\n",
    "for (i,row) in df.iterrows() :\n",
    "  if row[\"finding\"] == \"COVID-19\" and row[\"view\"] == \"PA\" and row[\"modality\"]:\n",
    "    filename = row[\"filename\"]\n",
    "    image_path = os.path.join(images_path,filename)\n",
    "    image_copy_path = os.path.join(target_coviddir ,filename)\n",
    "    shutil.copy2(image_path,image_copy_path)\n",
    "    # print(\"Moving image \", count) \n",
    "    count += 1\n",
    "print(count, filename)\n",
    "\n",
    "\n",
    "images_path_sec = fyp_data_path + \"\\\\onlinedata\\\\second\\\\QaTa-COV19\\\\QaTa-COV19-v2\\\\Train Set\\\\Images\"\n",
    "dataset_path_sec = os.listdir(fyp_data_path) # list all the file inside the fyp_data_path\n",
    "# print(fyp_data_path, \"\\n\", images_path_sec)\n",
    "\n",
    "\n",
    "no_images_sec = covid_images\n",
    "count_sec = 0\n",
    "file_sec = os.listdir(images_path_sec)\n",
    "for file_name in random.sample(file_sec, no_images_sec):\n",
    "    shutil.copy2(os.path.join(images_path_sec, file_name), target_coviddir)\n",
    "    # print(\"Coying image \", count_sec) \n",
    "    count_sec += 1\n",
    "print(count_sec, file_name)\n",
    "images_path_normal = fyp_data_path + \"\\\\onlinedata\\\\second\\\\QaTa-COV19\\\\Control_Group\\\\Control_Group_I\"\n",
    "dataset_path_normal = os.listdir(fyp_data_path) # list all the file inside the fyp_data_path\n",
    "# print(fyp_data_path, \"\\n\", images_path_normal)\n",
    "\n",
    "\n",
    "##################################### this is for testing only can remove after\n",
    "### create folder to store normal\n",
    "target_normaldir = fyp_data_path + \"\\\\data\\\\normaleff\"\n",
    "if not os.path.exists(target_normaldir):\n",
    "  os.mkdir(target_normaldir)\n",
    "#   print(\"normal for effiencyNetB0 folder created\")\n",
    "else: print(\"Error for normal dataset\")\n",
    "#####################################\n",
    "\n",
    "no_images_normal = normal_images\n",
    "count_normal = 0\n",
    "file_normal = os.listdir(images_path_normal)\n",
    "for file_name in random.sample(file_normal, no_images_normal):\n",
    "    shutil.copy2(os.path.join(images_path_normal, file_name), target_normaldir)\n",
    "    # print(\"Coying image \", count_normal) \n",
    "    count_normal += 1\n",
    "\n",
    "\n",
    "print(count_normal, file_name)\n",
    "\n",
    "\n"
   ]
  },
  {
   "cell_type": "code",
   "execution_count": 6,
   "metadata": {},
   "outputs": [
    {
     "name": "stdout",
     "output_type": "stream",
     "text": [
      "covid images not exist\n"
     ]
    }
   ],
   "source": [
    "if os.path.exists(target_normaldir):\n",
    "    shutil.rmtree(\"data/normaleff/\")\n",
    "    if os.path.exists(target_coviddir):\n",
    "        shutil.rmtree(\"data/covideff/\")\n",
    "    else: print(\"covid images not exist\")\n",
    "else: print(\"normal images not exist\")"
   ]
  }
 ],
 "metadata": {
  "kernelspec": {
   "display_name": "tf",
   "language": "python",
   "name": "python3"
  },
  "language_info": {
   "codemirror_mode": {
    "name": "ipython",
    "version": 3
   },
   "file_extension": ".py",
   "mimetype": "text/x-python",
   "name": "python",
   "nbconvert_exporter": "python",
   "pygments_lexer": "ipython3",
   "version": "3.9.15"
  },
  "orig_nbformat": 4,
  "vscode": {
   "interpreter": {
    "hash": "6b842ee399a034e8441bb1735471026e1a7735de8847d800b5388cb3dc33c04f"
   }
  }
 },
 "nbformat": 4,
 "nbformat_minor": 2
}
